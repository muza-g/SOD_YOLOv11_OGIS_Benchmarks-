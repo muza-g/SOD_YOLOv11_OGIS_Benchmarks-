{
  "nbformat": 4,
  "nbformat_minor": 0,
  "metadata": {
    "colab": {
      "provenance": [],
      "authorship_tag": "ABX9TyPmM8PK4Ks9wzACP6hW5nkS",
      "include_colab_link": true
    },
    "kernelspec": {
      "name": "python3",
      "display_name": "Python 3"
    },
    "language_info": {
      "name": "python"
    }
  },
  "cells": [
    {
      "cell_type": "markdown",
      "metadata": {
        "id": "view-in-github",
        "colab_type": "text"
      },
      "source": [
        "<a href=\"https://colab.research.google.com/github/muza-g/SOD_YOLOv10_OGIS_Benchmarks/blob/main/OGIS-Det_VS_FI-Det(Evaluation).ipynb\" target=\"_parent\">\n",
        "    <img src=\"https://colab.research.google.com/assets/colab-badge.svg\" alt=\"Open In Colab\"/>\n",
        "</a>"
      ]
    },
    {
      "cell_type": "code",
      "metadata": {
        "id": "connect-gdrive",
        "colab_type": "code"
      },
      "source": [
        "# Optionally connect to Google Drive if files are stored there\n",
        "from google.colab import drive\n",
        "\n",
        "# Mount Google Drive\n",
        "drive.mount('/content/gdrive')\n",
        "\n",
        "# Verify the mounted drive (optional)\n",
        "!ls /content/gdrive/MyDrive/"
      ],
      "execution_count": null,
      "outputs": []
    },
    {
      "cell_type": "code",
      "metadata": {
        "id": "clone-repo",
        "colab_type": "code"
      },
      "source": [
        "# Clone the repository to access required files\n",
        "!git clone https://github.com/muza-g/SOD_YOLOv10_OGIS_Benchmarks.git"
      ],
      "execution_count": null,
      "outputs": []
    },
    {
      "cell_type": "code",
      "metadata": {
        "id": "install-dependencies",
        "colab_type": "code"
      },
      "source": [
        "# Install pycocotools for COCO evaluation\n",
        "!pip install pycocotools"
      ],
      "execution_count": null,
      "outputs": []
    },
    {
      "cell_type": "code",
      "metadata": {
        "id": "fi-det-evaluation",
        "colab_type": "code"
      },
      "source": [
        "# FI-Det Evaluation\n",
        "!python Results_Evaluate.py \\\n",
        "    --ground_truth_path ./data/ground_truth/ground_truth_coco.json \\\n",
        "    --predictions_path ./data/FI_Predictions/full_inference.json"
      ],
      "execution_count": null,
      "outputs": []
    },
    {
      "cell_type": "code",
      "metadata": {
        "id": "ogis-det-evaluation",
        "colab_type": "code"
      },
      "source": [
        "# OGIS-Det Evaluation\n",
        "!python Results_Evaluate.py \\\n",
        "    --ground_truth_path ./data/ground_truth/ground_truth_coco.json \\\n",
        "    --predictions_path ./data/OGIS_Predictions/gois_inference.json"
      ],
      "execution_count": null,
      "outputs": []
    },
    {
      "cell_type": "code",
      "metadata": {
        "id": "comparison-evaluation",
        "colab_type": "code"
      },
      "source": [
        "# Comparison of FI-Det and OGIS-Det\n",
        "!python Compare_Results_OGIS_Det_VS_FI_Det.py \\\n",
        "    --ground_truth_path ./data/ground_truth/ground_truth_coco.json \\\n",
        "    --full_inference_path ./data/FI_Predictions/full_inference.json \\\n",
        "    --gois_inference_path ./data/OGIS_Predictions/gois_inference.json"
      ],
      "execution_count": null,
      "outputs": []
    }
  ]
}
